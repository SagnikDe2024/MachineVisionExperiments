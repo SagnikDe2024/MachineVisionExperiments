{
 "cells": [
  {
   "cell_type": "code",
   "id": "initial_id",
   "metadata": {
    "collapsed": true,
    "ExecuteTime": {
     "end_time": "2025-04-07T16:06:52.160234Z",
     "start_time": "2025-04-07T16:06:43.000117Z"
    }
   },
   "source": [
    "from src.Visualize_Classifier import find_classify_checkpoint\n",
    "%cd ..\n",
    "pd = find_classify_checkpoint()"
   ],
   "outputs": [
    {
     "name": "stderr",
     "output_type": "stream",
     "text": [
      "C:\\mywork\\python\\MachineVisionExperiments\\.venv\\Lib\\site-packages\\tqdm\\auto.py:21: TqdmWarning: IProgress not found. Please update jupyter and ipywidgets. See https://ipywidgets.readthedocs.io/en/stable/user_install.html\n",
      "  from .autonotebook import tqdm as notebook_tqdm\n",
      "2025-04-07 12:06:46,316\tINFO util.py:154 -- Missing packages: ['ipywidgets']. Run `pip install -U ipywidgets`, then restart the notebook server for rich notebook output.\n",
      "2025-04-07 12:06:46,549\tINFO util.py:154 -- Missing packages: ['ipywidgets']. Run `pip install -U ipywidgets`, then restart the notebook server for rich notebook output.\n"
     ]
    },
    {
     "name": "stdout",
     "output_type": "stream",
     "text": [
      "C:\\mywork\\python\\MachineVisionExperiments\n",
      "Logging to C:\\mywork\\python\\MachineVisionExperiments\\log\\application_61432.log\n"
     ]
    }
   ],
   "execution_count": 1
  },
  {
   "metadata": {
    "ExecuteTime": {
     "end_time": "2025-04-07T16:08:02.727879Z",
     "start_time": "2025-04-07T16:08:02.713549Z"
    }
   },
   "cell_type": "code",
   "source": "pd",
   "id": "7e525cd9c680d4e9",
   "outputs": [
    {
     "data": {
      "text/plain": [
       "    batch_size  cnn_layers  fcn_layers  final_channels  learning_rate  \\\n",
       "0          250           4           7             207       0.000082   \n",
       "1          250           4           6             338       0.000414   \n",
       "2          100           4           7             159       0.000010   \n",
       "3          250           6           5             255       0.002300   \n",
       "4          125           7           4             364       0.000850   \n",
       "..         ...         ...         ...             ...            ...   \n",
       "58         100           5           7             200       0.000132   \n",
       "59         100           6           6             347       0.001412   \n",
       "60         250           6           5             344       0.000278   \n",
       "61         250           5           5             194       0.000011   \n",
       "62         125           4           6             191       0.000592   \n",
       "\n",
       "    starting_channels    v_loss  total_params  \\\n",
       "0                  18  1.023887        723483   \n",
       "1                  24  0.772549       1516858   \n",
       "2                  33  1.584668        522333   \n",
       "3                  32  0.566755       1164077   \n",
       "4                  22  0.570501       1893671   \n",
       "..                ...       ...           ...   \n",
       "58                 28  0.860809        827079   \n",
       "59                 18  0.758641       1915117   \n",
       "60                 18  0.823125       1677553   \n",
       "61                 26  1.460128        624951   \n",
       "62                 17  0.828713        553792   \n",
       "\n",
       "                                      checkpoint_path  \n",
       "0   C:\\mywork\\python\\MachineVisionExperiments\\chec...  \n",
       "1   C:\\mywork\\python\\MachineVisionExperiments\\chec...  \n",
       "2   C:\\mywork\\python\\MachineVisionExperiments\\chec...  \n",
       "3   C:\\mywork\\python\\MachineVisionExperiments\\chec...  \n",
       "4   C:\\mywork\\python\\MachineVisionExperiments\\chec...  \n",
       "..                                                ...  \n",
       "58  C:\\mywork\\python\\MachineVisionExperiments\\chec...  \n",
       "59  C:\\mywork\\python\\MachineVisionExperiments\\chec...  \n",
       "60  C:\\mywork\\python\\MachineVisionExperiments\\chec...  \n",
       "61  C:\\mywork\\python\\MachineVisionExperiments\\chec...  \n",
       "62  C:\\mywork\\python\\MachineVisionExperiments\\chec...  \n",
       "\n",
       "[63 rows x 9 columns]"
      ],
      "text/html": [
       "<div>\n",
       "<style scoped>\n",
       "    .dataframe tbody tr th:only-of-type {\n",
       "        vertical-align: middle;\n",
       "    }\n",
       "\n",
       "    .dataframe tbody tr th {\n",
       "        vertical-align: top;\n",
       "    }\n",
       "\n",
       "    .dataframe thead th {\n",
       "        text-align: right;\n",
       "    }\n",
       "</style>\n",
       "<table border=\"1\" class=\"dataframe\">\n",
       "  <thead>\n",
       "    <tr style=\"text-align: right;\">\n",
       "      <th></th>\n",
       "      <th>batch_size</th>\n",
       "      <th>cnn_layers</th>\n",
       "      <th>fcn_layers</th>\n",
       "      <th>final_channels</th>\n",
       "      <th>learning_rate</th>\n",
       "      <th>starting_channels</th>\n",
       "      <th>v_loss</th>\n",
       "      <th>total_params</th>\n",
       "      <th>checkpoint_path</th>\n",
       "    </tr>\n",
       "  </thead>\n",
       "  <tbody>\n",
       "    <tr>\n",
       "      <th>0</th>\n",
       "      <td>250</td>\n",
       "      <td>4</td>\n",
       "      <td>7</td>\n",
       "      <td>207</td>\n",
       "      <td>0.000082</td>\n",
       "      <td>18</td>\n",
       "      <td>1.023887</td>\n",
       "      <td>723483</td>\n",
       "      <td>C:\\mywork\\python\\MachineVisionExperiments\\chec...</td>\n",
       "    </tr>\n",
       "    <tr>\n",
       "      <th>1</th>\n",
       "      <td>250</td>\n",
       "      <td>4</td>\n",
       "      <td>6</td>\n",
       "      <td>338</td>\n",
       "      <td>0.000414</td>\n",
       "      <td>24</td>\n",
       "      <td>0.772549</td>\n",
       "      <td>1516858</td>\n",
       "      <td>C:\\mywork\\python\\MachineVisionExperiments\\chec...</td>\n",
       "    </tr>\n",
       "    <tr>\n",
       "      <th>2</th>\n",
       "      <td>100</td>\n",
       "      <td>4</td>\n",
       "      <td>7</td>\n",
       "      <td>159</td>\n",
       "      <td>0.000010</td>\n",
       "      <td>33</td>\n",
       "      <td>1.584668</td>\n",
       "      <td>522333</td>\n",
       "      <td>C:\\mywork\\python\\MachineVisionExperiments\\chec...</td>\n",
       "    </tr>\n",
       "    <tr>\n",
       "      <th>3</th>\n",
       "      <td>250</td>\n",
       "      <td>6</td>\n",
       "      <td>5</td>\n",
       "      <td>255</td>\n",
       "      <td>0.002300</td>\n",
       "      <td>32</td>\n",
       "      <td>0.566755</td>\n",
       "      <td>1164077</td>\n",
       "      <td>C:\\mywork\\python\\MachineVisionExperiments\\chec...</td>\n",
       "    </tr>\n",
       "    <tr>\n",
       "      <th>4</th>\n",
       "      <td>125</td>\n",
       "      <td>7</td>\n",
       "      <td>4</td>\n",
       "      <td>364</td>\n",
       "      <td>0.000850</td>\n",
       "      <td>22</td>\n",
       "      <td>0.570501</td>\n",
       "      <td>1893671</td>\n",
       "      <td>C:\\mywork\\python\\MachineVisionExperiments\\chec...</td>\n",
       "    </tr>\n",
       "    <tr>\n",
       "      <th>...</th>\n",
       "      <td>...</td>\n",
       "      <td>...</td>\n",
       "      <td>...</td>\n",
       "      <td>...</td>\n",
       "      <td>...</td>\n",
       "      <td>...</td>\n",
       "      <td>...</td>\n",
       "      <td>...</td>\n",
       "      <td>...</td>\n",
       "    </tr>\n",
       "    <tr>\n",
       "      <th>58</th>\n",
       "      <td>100</td>\n",
       "      <td>5</td>\n",
       "      <td>7</td>\n",
       "      <td>200</td>\n",
       "      <td>0.000132</td>\n",
       "      <td>28</td>\n",
       "      <td>0.860809</td>\n",
       "      <td>827079</td>\n",
       "      <td>C:\\mywork\\python\\MachineVisionExperiments\\chec...</td>\n",
       "    </tr>\n",
       "    <tr>\n",
       "      <th>59</th>\n",
       "      <td>100</td>\n",
       "      <td>6</td>\n",
       "      <td>6</td>\n",
       "      <td>347</td>\n",
       "      <td>0.001412</td>\n",
       "      <td>18</td>\n",
       "      <td>0.758641</td>\n",
       "      <td>1915117</td>\n",
       "      <td>C:\\mywork\\python\\MachineVisionExperiments\\chec...</td>\n",
       "    </tr>\n",
       "    <tr>\n",
       "      <th>60</th>\n",
       "      <td>250</td>\n",
       "      <td>6</td>\n",
       "      <td>5</td>\n",
       "      <td>344</td>\n",
       "      <td>0.000278</td>\n",
       "      <td>18</td>\n",
       "      <td>0.823125</td>\n",
       "      <td>1677553</td>\n",
       "      <td>C:\\mywork\\python\\MachineVisionExperiments\\chec...</td>\n",
       "    </tr>\n",
       "    <tr>\n",
       "      <th>61</th>\n",
       "      <td>250</td>\n",
       "      <td>5</td>\n",
       "      <td>5</td>\n",
       "      <td>194</td>\n",
       "      <td>0.000011</td>\n",
       "      <td>26</td>\n",
       "      <td>1.460128</td>\n",
       "      <td>624951</td>\n",
       "      <td>C:\\mywork\\python\\MachineVisionExperiments\\chec...</td>\n",
       "    </tr>\n",
       "    <tr>\n",
       "      <th>62</th>\n",
       "      <td>125</td>\n",
       "      <td>4</td>\n",
       "      <td>6</td>\n",
       "      <td>191</td>\n",
       "      <td>0.000592</td>\n",
       "      <td>17</td>\n",
       "      <td>0.828713</td>\n",
       "      <td>553792</td>\n",
       "      <td>C:\\mywork\\python\\MachineVisionExperiments\\chec...</td>\n",
       "    </tr>\n",
       "  </tbody>\n",
       "</table>\n",
       "<p>63 rows × 9 columns</p>\n",
       "</div>"
      ]
     },
     "execution_count": 2,
     "metadata": {},
     "output_type": "execute_result"
    }
   ],
   "execution_count": 2
  },
  {
   "metadata": {},
   "cell_type": "markdown",
   "source": "Let's calculate the efficiency based on the number of parameters.",
   "id": "1768daef9e9bb4dc"
  },
  {
   "metadata": {
    "ExecuteTime": {
     "end_time": "2025-04-07T16:17:50.762069Z",
     "start_time": "2025-04-07T16:17:50.758057Z"
    }
   },
   "cell_type": "code",
   "source": "efficiency = 1 / (pd.v_loss * pd.total_params)",
   "id": "3a64ed04b97c49d2",
   "outputs": [],
   "execution_count": 4
  },
  {
   "metadata": {
    "ExecuteTime": {
     "end_time": "2025-04-07T16:17:58.901956Z",
     "start_time": "2025-04-07T16:17:58.893529Z"
    }
   },
   "cell_type": "code",
   "source": "efficiency",
   "id": "759a67afd5d9ef6e",
   "outputs": [
    {
     "data": {
      "text/plain": [
       "0     1.349956e-06\n",
       "1     8.533539e-07\n",
       "2     1.208131e-06\n",
       "3     1.515734e-06\n",
       "4     9.256338e-07\n",
       "          ...     \n",
       "58    1.404580e-06\n",
       "59    6.882849e-07\n",
       "60    7.241992e-07\n",
       "61    1.095880e-06\n",
       "62    2.178960e-06\n",
       "Length: 63, dtype: float64"
      ]
     },
     "execution_count": 5,
     "metadata": {},
     "output_type": "execute_result"
    }
   ],
   "execution_count": 5
  },
  {
   "metadata": {
    "ExecuteTime": {
     "end_time": "2025-04-07T16:19:14.821671Z",
     "start_time": "2025-04-07T16:19:14.816501Z"
    }
   },
   "cell_type": "code",
   "source": "pd.insert(8,'efficiency',efficiency)",
   "id": "60a3e075c075f862",
   "outputs": [],
   "execution_count": 6
  },
  {
   "metadata": {
    "ExecuteTime": {
     "end_time": "2025-04-07T16:19:21.033591Z",
     "start_time": "2025-04-07T16:19:21.022421Z"
    }
   },
   "cell_type": "code",
   "source": "pd",
   "id": "201a7478035ece4f",
   "outputs": [
    {
     "data": {
      "text/plain": [
       "    batch_size  cnn_layers  fcn_layers  final_channels  learning_rate  \\\n",
       "0          250           4           7             207       0.000082   \n",
       "1          250           4           6             338       0.000414   \n",
       "2          100           4           7             159       0.000010   \n",
       "3          250           6           5             255       0.002300   \n",
       "4          125           7           4             364       0.000850   \n",
       "..         ...         ...         ...             ...            ...   \n",
       "58         100           5           7             200       0.000132   \n",
       "59         100           6           6             347       0.001412   \n",
       "60         250           6           5             344       0.000278   \n",
       "61         250           5           5             194       0.000011   \n",
       "62         125           4           6             191       0.000592   \n",
       "\n",
       "    starting_channels    v_loss  total_params    efficiency  \\\n",
       "0                  18  1.023887        723483  1.349956e-06   \n",
       "1                  24  0.772549       1516858  8.533539e-07   \n",
       "2                  33  1.584668        522333  1.208131e-06   \n",
       "3                  32  0.566755       1164077  1.515734e-06   \n",
       "4                  22  0.570501       1893671  9.256338e-07   \n",
       "..                ...       ...           ...           ...   \n",
       "58                 28  0.860809        827079  1.404580e-06   \n",
       "59                 18  0.758641       1915117  6.882849e-07   \n",
       "60                 18  0.823125       1677553  7.241992e-07   \n",
       "61                 26  1.460128        624951  1.095880e-06   \n",
       "62                 17  0.828713        553792  2.178960e-06   \n",
       "\n",
       "                                      checkpoint_path  \n",
       "0   C:\\mywork\\python\\MachineVisionExperiments\\chec...  \n",
       "1   C:\\mywork\\python\\MachineVisionExperiments\\chec...  \n",
       "2   C:\\mywork\\python\\MachineVisionExperiments\\chec...  \n",
       "3   C:\\mywork\\python\\MachineVisionExperiments\\chec...  \n",
       "4   C:\\mywork\\python\\MachineVisionExperiments\\chec...  \n",
       "..                                                ...  \n",
       "58  C:\\mywork\\python\\MachineVisionExperiments\\chec...  \n",
       "59  C:\\mywork\\python\\MachineVisionExperiments\\chec...  \n",
       "60  C:\\mywork\\python\\MachineVisionExperiments\\chec...  \n",
       "61  C:\\mywork\\python\\MachineVisionExperiments\\chec...  \n",
       "62  C:\\mywork\\python\\MachineVisionExperiments\\chec...  \n",
       "\n",
       "[63 rows x 10 columns]"
      ],
      "text/html": [
       "<div>\n",
       "<style scoped>\n",
       "    .dataframe tbody tr th:only-of-type {\n",
       "        vertical-align: middle;\n",
       "    }\n",
       "\n",
       "    .dataframe tbody tr th {\n",
       "        vertical-align: top;\n",
       "    }\n",
       "\n",
       "    .dataframe thead th {\n",
       "        text-align: right;\n",
       "    }\n",
       "</style>\n",
       "<table border=\"1\" class=\"dataframe\">\n",
       "  <thead>\n",
       "    <tr style=\"text-align: right;\">\n",
       "      <th></th>\n",
       "      <th>batch_size</th>\n",
       "      <th>cnn_layers</th>\n",
       "      <th>fcn_layers</th>\n",
       "      <th>final_channels</th>\n",
       "      <th>learning_rate</th>\n",
       "      <th>starting_channels</th>\n",
       "      <th>v_loss</th>\n",
       "      <th>total_params</th>\n",
       "      <th>efficiency</th>\n",
       "      <th>checkpoint_path</th>\n",
       "    </tr>\n",
       "  </thead>\n",
       "  <tbody>\n",
       "    <tr>\n",
       "      <th>0</th>\n",
       "      <td>250</td>\n",
       "      <td>4</td>\n",
       "      <td>7</td>\n",
       "      <td>207</td>\n",
       "      <td>0.000082</td>\n",
       "      <td>18</td>\n",
       "      <td>1.023887</td>\n",
       "      <td>723483</td>\n",
       "      <td>1.349956e-06</td>\n",
       "      <td>C:\\mywork\\python\\MachineVisionExperiments\\chec...</td>\n",
       "    </tr>\n",
       "    <tr>\n",
       "      <th>1</th>\n",
       "      <td>250</td>\n",
       "      <td>4</td>\n",
       "      <td>6</td>\n",
       "      <td>338</td>\n",
       "      <td>0.000414</td>\n",
       "      <td>24</td>\n",
       "      <td>0.772549</td>\n",
       "      <td>1516858</td>\n",
       "      <td>8.533539e-07</td>\n",
       "      <td>C:\\mywork\\python\\MachineVisionExperiments\\chec...</td>\n",
       "    </tr>\n",
       "    <tr>\n",
       "      <th>2</th>\n",
       "      <td>100</td>\n",
       "      <td>4</td>\n",
       "      <td>7</td>\n",
       "      <td>159</td>\n",
       "      <td>0.000010</td>\n",
       "      <td>33</td>\n",
       "      <td>1.584668</td>\n",
       "      <td>522333</td>\n",
       "      <td>1.208131e-06</td>\n",
       "      <td>C:\\mywork\\python\\MachineVisionExperiments\\chec...</td>\n",
       "    </tr>\n",
       "    <tr>\n",
       "      <th>3</th>\n",
       "      <td>250</td>\n",
       "      <td>6</td>\n",
       "      <td>5</td>\n",
       "      <td>255</td>\n",
       "      <td>0.002300</td>\n",
       "      <td>32</td>\n",
       "      <td>0.566755</td>\n",
       "      <td>1164077</td>\n",
       "      <td>1.515734e-06</td>\n",
       "      <td>C:\\mywork\\python\\MachineVisionExperiments\\chec...</td>\n",
       "    </tr>\n",
       "    <tr>\n",
       "      <th>4</th>\n",
       "      <td>125</td>\n",
       "      <td>7</td>\n",
       "      <td>4</td>\n",
       "      <td>364</td>\n",
       "      <td>0.000850</td>\n",
       "      <td>22</td>\n",
       "      <td>0.570501</td>\n",
       "      <td>1893671</td>\n",
       "      <td>9.256338e-07</td>\n",
       "      <td>C:\\mywork\\python\\MachineVisionExperiments\\chec...</td>\n",
       "    </tr>\n",
       "    <tr>\n",
       "      <th>...</th>\n",
       "      <td>...</td>\n",
       "      <td>...</td>\n",
       "      <td>...</td>\n",
       "      <td>...</td>\n",
       "      <td>...</td>\n",
       "      <td>...</td>\n",
       "      <td>...</td>\n",
       "      <td>...</td>\n",
       "      <td>...</td>\n",
       "      <td>...</td>\n",
       "    </tr>\n",
       "    <tr>\n",
       "      <th>58</th>\n",
       "      <td>100</td>\n",
       "      <td>5</td>\n",
       "      <td>7</td>\n",
       "      <td>200</td>\n",
       "      <td>0.000132</td>\n",
       "      <td>28</td>\n",
       "      <td>0.860809</td>\n",
       "      <td>827079</td>\n",
       "      <td>1.404580e-06</td>\n",
       "      <td>C:\\mywork\\python\\MachineVisionExperiments\\chec...</td>\n",
       "    </tr>\n",
       "    <tr>\n",
       "      <th>59</th>\n",
       "      <td>100</td>\n",
       "      <td>6</td>\n",
       "      <td>6</td>\n",
       "      <td>347</td>\n",
       "      <td>0.001412</td>\n",
       "      <td>18</td>\n",
       "      <td>0.758641</td>\n",
       "      <td>1915117</td>\n",
       "      <td>6.882849e-07</td>\n",
       "      <td>C:\\mywork\\python\\MachineVisionExperiments\\chec...</td>\n",
       "    </tr>\n",
       "    <tr>\n",
       "      <th>60</th>\n",
       "      <td>250</td>\n",
       "      <td>6</td>\n",
       "      <td>5</td>\n",
       "      <td>344</td>\n",
       "      <td>0.000278</td>\n",
       "      <td>18</td>\n",
       "      <td>0.823125</td>\n",
       "      <td>1677553</td>\n",
       "      <td>7.241992e-07</td>\n",
       "      <td>C:\\mywork\\python\\MachineVisionExperiments\\chec...</td>\n",
       "    </tr>\n",
       "    <tr>\n",
       "      <th>61</th>\n",
       "      <td>250</td>\n",
       "      <td>5</td>\n",
       "      <td>5</td>\n",
       "      <td>194</td>\n",
       "      <td>0.000011</td>\n",
       "      <td>26</td>\n",
       "      <td>1.460128</td>\n",
       "      <td>624951</td>\n",
       "      <td>1.095880e-06</td>\n",
       "      <td>C:\\mywork\\python\\MachineVisionExperiments\\chec...</td>\n",
       "    </tr>\n",
       "    <tr>\n",
       "      <th>62</th>\n",
       "      <td>125</td>\n",
       "      <td>4</td>\n",
       "      <td>6</td>\n",
       "      <td>191</td>\n",
       "      <td>0.000592</td>\n",
       "      <td>17</td>\n",
       "      <td>0.828713</td>\n",
       "      <td>553792</td>\n",
       "      <td>2.178960e-06</td>\n",
       "      <td>C:\\mywork\\python\\MachineVisionExperiments\\chec...</td>\n",
       "    </tr>\n",
       "  </tbody>\n",
       "</table>\n",
       "<p>63 rows × 10 columns</p>\n",
       "</div>"
      ]
     },
     "execution_count": 7,
     "metadata": {},
     "output_type": "execute_result"
    }
   ],
   "execution_count": 7
  },
  {
   "metadata": {
    "ExecuteTime": {
     "end_time": "2025-04-07T16:21:44.868486Z",
     "start_time": "2025-04-07T16:21:44.861458Z"
    }
   },
   "cell_type": "code",
   "source": "pd.v_loss.median()",
   "id": "e4d66b8a364fcb74",
   "outputs": [
    {
     "data": {
      "text/plain": [
       "np.float64(0.7635620832443237)"
      ]
     },
     "execution_count": 8,
     "metadata": {},
     "output_type": "execute_result"
    }
   ],
   "execution_count": 8
  },
  {
   "metadata": {
    "ExecuteTime": {
     "end_time": "2025-04-07T16:32:16.844288Z",
     "start_time": "2025-04-07T16:32:16.569076Z"
    }
   },
   "cell_type": "code",
   "source": "pd.plot(x='learning_rate',y='efficiency',logx=True, kind='scatter')",
   "id": "7223031af22490c8",
   "outputs": [
    {
     "data": {
      "text/plain": [
       "<Axes: xlabel='learning_rate', ylabel='efficiency'>"
      ]
     },
     "execution_count": 11,
     "metadata": {},
     "output_type": "execute_result"
    },
    {
     "data": {
      "text/plain": [
       "<Figure size 640x480 with 1 Axes>"
      ],
      "image/png": "[encoded data removed]"
     },
     "metadata": {},
     "output_type": "display_data"
    }
   ],
   "execution_count": 11
  },
  {
   "metadata": {
    "ExecuteTime": {
     "end_time": "2025-04-07T16:36:32.477788Z",
     "start_time": "2025-04-07T16:36:32.348758Z"
    }
   },
   "cell_type": "code",
   "source": [
    "median_vloss = pd.v_loss.median()\n",
    "lower_loss = pd[pd.v_loss < median_vloss]\n",
    "lower_loss.plot(x='learning_rate',y='efficiency',logx=True, kind='scatter')"
   ],
   "id": "ae236a3d5ddd2124",
   "outputs": [
    {
     "data": {
      "text/plain": [
       "<Axes: xlabel='learning_rate', ylabel='efficiency'>"
      ]
     },
     "execution_count": 12,
     "metadata": {},
     "output_type": "execute_result"
    },
    {
     "data": {
      "text/plain": [
       "<Figure size 640x480 with 1 Axes>"
      ],
      "image/png": "[encoded data removed]"
     },
     "metadata": {},
     "output_type": "display_data"
    }
   ],
   "execution_count": 12
  },
  {
   "metadata": {
    "ExecuteTime": {
     "end_time": "2025-04-07T16:42:55.121083Z",
     "start_time": "2025-04-07T16:42:55.031589Z"
    }
   },
   "cell_type": "code",
   "source": "lower_loss.plot(x='final_channels',y='efficiency', kind='scatter')",
   "id": "ce72365e2586283",
   "outputs": [
    {
     "data": {
      "text/plain": [
       "<Axes: xlabel='final_channels', ylabel='efficiency'>"
      ]
     },
     "execution_count": 13,
     "metadata": {},
     "output_type": "execute_result"
    },
    {
     "data": {
      "text/plain": [
       "<Figure size 640x480 with 1 Axes>"
      ],
      "image/png": "[encoded data removed]"
     },
     "metadata": {},
     "output_type": "display_data"
    }
   ],
   "execution_count": 13
  },
  {
   "metadata": {
    "ExecuteTime": {
     "end_time": "2025-04-07T16:43:35.040630Z",
     "start_time": "2025-04-07T16:43:34.954052Z"
    }
   },
   "cell_type": "code",
   "source": "lower_loss.plot(x='final_channels', y='v_loss', kind='scatter')",
   "id": "fad3f999ff97d975",
   "outputs": [
    {
     "data": {
      "text/plain": [
       "<Axes: xlabel='final_channels', ylabel='v_loss'>"
      ]
     },
     "execution_count": 14,
     "metadata": {},
     "output_type": "execute_result"
    },
    {
     "data": {
      "text/plain": [
       "<Figure size 640x480 with 1 Axes>"
      ],
      "image/png": "[encoded data removed]"
     },
     "metadata": {},
     "output_type": "display_data"
    }
   ],
   "execution_count": 14
  },
  {
   "metadata": {
    "ExecuteTime": {
     "end_time": "2025-04-07T16:48:47.233047Z",
     "start_time": "2025-04-07T16:48:47.133859Z"
    }
   },
   "cell_type": "code",
   "source": "lower_loss.plot(x='starting_channels', y='efficiency', kind='scatter')",
   "id": "f7e60068ff429c",
   "outputs": [
    {
     "data": {
      "text/plain": [
       "<Axes: xlabel='starting_channels', ylabel='efficiency'>"
      ]
     },
     "execution_count": 15,
     "metadata": {},
     "output_type": "execute_result"
    },
    {
     "data": {
      "text/plain": [
       "<Figure size 640x480 with 1 Axes>"
      ],
      "image/png": "[encoded data removed]"
     },
     "metadata": {},
     "output_type": "display_data"
    }
   ],
   "execution_count": 15
  },
  {
   "metadata": {
    "ExecuteTime": {
     "end_time": "2025-04-07T16:50:15.245121Z",
     "start_time": "2025-04-07T16:50:15.145186Z"
    }
   },
   "cell_type": "code",
   "source": "lower_loss.plot(x='batch_size', y='efficiency', kind='scatter')",
   "id": "24b28d3a338a45b7",
   "outputs": [
    {
     "data": {
      "text/plain": [
       "<Axes: xlabel='batch_size', ylabel='efficiency'>"
      ]
     },
     "execution_count": 16,
     "metadata": {},
     "output_type": "execute_result"
    },
    {
     "data": {
      "text/plain": [
       "<Figure size 640x480 with 1 Axes>"
      ],
      "image/png": "[encoded data removed]"
     },
     "metadata": {},
     "output_type": "display_data"
    }
   ],
   "execution_count": 16
  }
 ],
 "metadata": {
  "kernelspec": {
   "display_name": "Python 3",
   "language": "python",
   "name": "python3"
  },
  "language_info": {
   "codemirror_mode": {
    "name": "ipython",
    "version": 2
   },
   "file_extension": ".py",
   "mimetype": "text/x-python",
   "name": "python",
   "nbconvert_exporter": "python",
   "pygments_lexer": "ipython2",
   "version": "2.7.6"
  }
 },
 "nbformat": 4,
 "nbformat_minor": 5
}
