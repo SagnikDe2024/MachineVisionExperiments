{
 "cells": [
  {
   "cell_type": "markdown",
   "id": "5131c578ea1b14d0",
   "metadata": {
    "collapsed": false,
    "jupyter": {
     "outputs_hidden": false
    }
   },
   "source": [
    "Sagnik De\n",
    "Email : sagnik4de@gmail.com\n",
    "Emotion Recognition"
   ]
  },
  {
   "cell_type": "code",
   "execution_count": 1,
   "id": "5fee5a679fba44a",
   "metadata": {
    "ExecuteTime": {
     "end_time": "2024-03-18T03:56:45.134631900Z",
     "start_time": "2024-03-18T03:56:45.095822500Z"
    },
    "collapsed": false,
    "jupyter": {
     "outputs_hidden": false
    }
   },
   "outputs": [],
   "source": [
    "# from google.colab import drive\n",
    "# \n",
    "# drive.mount('/content/drive/')\n",
    "# %cd drive/MyDrive/EmotionRecognition"
   ]
  },
  {
   "cell_type": "markdown",
   "id": "c619bc98f5fde2f8",
   "metadata": {
    "collapsed": false,
    "jupyter": {
     "outputs_hidden": false
    }
   },
   "source": [
    "These are the dependencies. Running them will automatically install it."
   ]
  },
  {
   "cell_type": "code",
   "execution_count": 2,
   "id": "de9fdd78730bce08",
   "metadata": {
    "ExecuteTime": {
     "end_time": "2024-03-18T03:56:50.782682200Z",
     "start_time": "2024-03-18T03:56:45.138751600Z"
    },
    "collapsed": false,
    "jupyter": {
     "outputs_hidden": false
    }
   },
   "outputs": [
    {
     "name": "stdout",
     "output_type": "stream",
     "text": [
      "Requirement already satisfied: deepface in c:\\mywork\\ml\\deepfaceandemotion\\venv\\lib\\site-packages (0.0.86)\n",
      "Requirement already satisfied: numpy>=1.14.0 in c:\\mywork\\ml\\deepfaceandemotion\\venv\\lib\\site-packages (from deepface) (1.26.4)\n",
      "Requirement already satisfied: pandas>=0.23.4 in c:\\mywork\\ml\\deepfaceandemotion\\venv\\lib\\site-packages (from deepface) (2.2.1)\n",
      "Requirement already satisfied: gdown>=3.10.1 in c:\\mywork\\ml\\deepfaceandemotion\\venv\\lib\\site-packages (from deepface) (5.1.0)\n",
      "Requirement already satisfied: tqdm>=4.30.0 in c:\\mywork\\ml\\deepfaceandemotion\\venv\\lib\\site-packages (from deepface) (4.66.2)\n",
      "Requirement already satisfied: Pillow>=5.2.0 in c:\\mywork\\ml\\deepfaceandemotion\\venv\\lib\\site-packages (from deepface) (10.2.0)\n",
      "Requirement already satisfied: opencv-python>=4.5.5.64 in c:\\mywork\\ml\\deepfaceandemotion\\venv\\lib\\site-packages (from deepface) (4.9.0.80)\n",
      "Requirement already satisfied: tensorflow>=1.9.0 in c:\\mywork\\ml\\deepfaceandemotion\\venv\\lib\\site-packages (from deepface) (2.16.1)\n",
      "Requirement already satisfied: keras>=2.2.0 in c:\\mywork\\ml\\deepfaceandemotion\\venv\\lib\\site-packages (from deepface) (3.0.5)\n",
      "Requirement already satisfied: Flask>=1.1.2 in c:\\mywork\\ml\\deepfaceandemotion\\venv\\lib\\site-packages (from deepface) (3.0.2)\n",
      "Requirement already satisfied: mtcnn>=0.1.0 in c:\\mywork\\ml\\deepfaceandemotion\\venv\\lib\\site-packages (from deepface) (0.1.1)\n",
      "Requirement already satisfied: retina-face>=0.0.1 in c:\\mywork\\ml\\deepfaceandemotion\\venv\\lib\\site-packages (from deepface) (0.0.14)\n",
      "Requirement already satisfied: fire>=0.4.0 in c:\\mywork\\ml\\deepfaceandemotion\\venv\\lib\\site-packages (from deepface) (0.6.0)\n",
      "Requirement already satisfied: gunicorn>=20.1.0 in c:\\mywork\\ml\\deepfaceandemotion\\venv\\lib\\site-packages (from deepface) (21.2.0)\n",
      "Requirement already satisfied: six in c:\\mywork\\ml\\deepfaceandemotion\\venv\\lib\\site-packages (from fire>=0.4.0->deepface) (1.16.0)\n",
      "Requirement already satisfied: termcolor in c:\\mywork\\ml\\deepfaceandemotion\\venv\\lib\\site-packages (from fire>=0.4.0->deepface) (2.4.0)\n",
      "Requirement already satisfied: Werkzeug>=3.0.0 in c:\\mywork\\ml\\deepfaceandemotion\\venv\\lib\\site-packages (from Flask>=1.1.2->deepface) (3.0.1)\n",
      "Requirement already satisfied: Jinja2>=3.1.2 in c:\\mywork\\ml\\deepfaceandemotion\\venv\\lib\\site-packages (from Flask>=1.1.2->deepface) (3.1.3)\n",
      "Requirement already satisfied: itsdangerous>=2.1.2 in c:\\mywork\\ml\\deepfaceandemotion\\venv\\lib\\site-packages (from Flask>=1.1.2->deepface) (2.1.2)\n",
      "Requirement already satisfied: click>=8.1.3 in c:\\mywork\\ml\\deepfaceandemotion\\venv\\lib\\site-packages (from Flask>=1.1.2->deepface) (8.1.7)\n",
      "Requirement already satisfied: blinker>=1.6.2 in c:\\mywork\\ml\\deepfaceandemotion\\venv\\lib\\site-packages (from Flask>=1.1.2->deepface) (1.7.0)\n",
      "Requirement already satisfied: beautifulsoup4 in c:\\mywork\\ml\\deepfaceandemotion\\venv\\lib\\site-packages (from gdown>=3.10.1->deepface) (4.12.3)\n",
      "Requirement already satisfied: filelock in c:\\mywork\\ml\\deepfaceandemotion\\venv\\lib\\site-packages (from gdown>=3.10.1->deepface) (3.13.1)\n",
      "Requirement already satisfied: requests[socks] in c:\\mywork\\ml\\deepfaceandemotion\\venv\\lib\\site-packages (from gdown>=3.10.1->deepface) (2.31.0)\n",
      "Requirement already satisfied: packaging in c:\\mywork\\ml\\deepfaceandemotion\\venv\\lib\\site-packages (from gunicorn>=20.1.0->deepface) (24.0)\n",
      "Requirement already satisfied: absl-py in c:\\mywork\\ml\\deepfaceandemotion\\venv\\lib\\site-packages (from keras>=2.2.0->deepface) (2.1.0)\n",
      "Requirement already satisfied: rich in c:\\mywork\\ml\\deepfaceandemotion\\venv\\lib\\site-packages (from keras>=2.2.0->deepface) (13.7.1)\n",
      "Requirement already satisfied: namex in c:\\mywork\\ml\\deepfaceandemotion\\venv\\lib\\site-packages (from keras>=2.2.0->deepface) (0.0.7)\n",
      "Requirement already satisfied: h5py in c:\\mywork\\ml\\deepfaceandemotion\\venv\\lib\\site-packages (from keras>=2.2.0->deepface) (3.10.0)\n",
      "Requirement already satisfied: dm-tree in c:\\mywork\\ml\\deepfaceandemotion\\venv\\lib\\site-packages (from keras>=2.2.0->deepface) (0.1.8)\n",
      "Requirement already satisfied: ml-dtypes in c:\\mywork\\ml\\deepfaceandemotion\\venv\\lib\\site-packages (from keras>=2.2.0->deepface) (0.3.2)\n",
      "Requirement already satisfied: python-dateutil>=2.8.2 in c:\\mywork\\ml\\deepfaceandemotion\\venv\\lib\\site-packages (from pandas>=0.23.4->deepface) (2.9.0.post0)\n",
      "Requirement already satisfied: pytz>=2020.1 in c:\\mywork\\ml\\deepfaceandemotion\\venv\\lib\\site-packages (from pandas>=0.23.4->deepface) (2024.1)\n",
      "Requirement already satisfied: tzdata>=2022.7 in c:\\mywork\\ml\\deepfaceandemotion\\venv\\lib\\site-packages (from pandas>=0.23.4->deepface) (2024.1)\n",
      "Requirement already satisfied: tensorflow-intel==2.16.1 in c:\\mywork\\ml\\deepfaceandemotion\\venv\\lib\\site-packages (from tensorflow>=1.9.0->deepface) (2.16.1)\n",
      "Requirement already satisfied: astunparse>=1.6.0 in c:\\mywork\\ml\\deepfaceandemotion\\venv\\lib\\site-packages (from tensorflow-intel==2.16.1->tensorflow>=1.9.0->deepface) (1.6.3)\n",
      "Requirement already satisfied: flatbuffers>=23.5.26 in c:\\mywork\\ml\\deepfaceandemotion\\venv\\lib\\site-packages (from tensorflow-intel==2.16.1->tensorflow>=1.9.0->deepface) (24.3.7)\n",
      "Requirement already satisfied: gast!=0.5.0,!=0.5.1,!=0.5.2,>=0.2.1 in c:\\mywork\\ml\\deepfaceandemotion\\venv\\lib\\site-packages (from tensorflow-intel==2.16.1->tensorflow>=1.9.0->deepface) (0.5.4)\n",
      "Requirement already satisfied: google-pasta>=0.1.1 in c:\\mywork\\ml\\deepfaceandemotion\\venv\\lib\\site-packages (from tensorflow-intel==2.16.1->tensorflow>=1.9.0->deepface) (0.2.0)\n",
      "Requirement already satisfied: libclang>=13.0.0 in c:\\mywork\\ml\\deepfaceandemotion\\venv\\lib\\site-packages (from tensorflow-intel==2.16.1->tensorflow>=1.9.0->deepface) (16.0.6)\n",
      "Requirement already satisfied: opt-einsum>=2.3.2 in c:\\mywork\\ml\\deepfaceandemotion\\venv\\lib\\site-packages (from tensorflow-intel==2.16.1->tensorflow>=1.9.0->deepface) (3.3.0)\n",
      "Requirement already satisfied: protobuf!=4.21.0,!=4.21.1,!=4.21.2,!=4.21.3,!=4.21.4,!=4.21.5,<5.0.0dev,>=3.20.3 in c:\\mywork\\ml\\deepfaceandemotion\\venv\\lib\\site-packages (from tensorflow-intel==2.16.1->tensorflow>=1.9.0->deepface) (4.25.3)\n",
      "Requirement already satisfied: setuptools in c:\\mywork\\ml\\deepfaceandemotion\\venv\\lib\\site-packages (from tensorflow-intel==2.16.1->tensorflow>=1.9.0->deepface) (68.2.0)\n",
      "Requirement already satisfied: typing-extensions>=3.6.6 in c:\\mywork\\ml\\deepfaceandemotion\\venv\\lib\\site-packages (from tensorflow-intel==2.16.1->tensorflow>=1.9.0->deepface) (4.10.0)\n",
      "Requirement already satisfied: wrapt>=1.11.0 in c:\\mywork\\ml\\deepfaceandemotion\\venv\\lib\\site-packages (from tensorflow-intel==2.16.1->tensorflow>=1.9.0->deepface) (1.16.0)\n",
      "Requirement already satisfied: grpcio<2.0,>=1.24.3 in c:\\mywork\\ml\\deepfaceandemotion\\venv\\lib\\site-packages (from tensorflow-intel==2.16.1->tensorflow>=1.9.0->deepface) (1.62.1)\n",
      "Requirement already satisfied: tensorboard<2.17,>=2.16 in c:\\mywork\\ml\\deepfaceandemotion\\venv\\lib\\site-packages (from tensorflow-intel==2.16.1->tensorflow>=1.9.0->deepface) (2.16.2)\n",
      "Requirement already satisfied: tensorflow-io-gcs-filesystem>=0.23.1 in c:\\mywork\\ml\\deepfaceandemotion\\venv\\lib\\site-packages (from tensorflow-intel==2.16.1->tensorflow>=1.9.0->deepface) (0.31.0)\n",
      "Requirement already satisfied: colorama in c:\\mywork\\ml\\deepfaceandemotion\\venv\\lib\\site-packages (from tqdm>=4.30.0->deepface) (0.4.6)\n",
      "Requirement already satisfied: MarkupSafe>=2.0 in c:\\mywork\\ml\\deepfaceandemotion\\venv\\lib\\site-packages (from Jinja2>=3.1.2->Flask>=1.1.2->deepface) (2.1.5)\n",
      "Requirement already satisfied: soupsieve>1.2 in c:\\mywork\\ml\\deepfaceandemotion\\venv\\lib\\site-packages (from beautifulsoup4->gdown>=3.10.1->deepface) (2.5)\n",
      "Requirement already satisfied: charset-normalizer<4,>=2 in c:\\mywork\\ml\\deepfaceandemotion\\venv\\lib\\site-packages (from requests[socks]->gdown>=3.10.1->deepface) (3.3.2)\n",
      "Requirement already satisfied: idna<4,>=2.5 in c:\\mywork\\ml\\deepfaceandemotion\\venv\\lib\\site-packages (from requests[socks]->gdown>=3.10.1->deepface) (3.6)\n",
      "Requirement already satisfied: urllib3<3,>=1.21.1 in c:\\mywork\\ml\\deepfaceandemotion\\venv\\lib\\site-packages (from requests[socks]->gdown>=3.10.1->deepface) (2.2.1)\n",
      "Requirement already satisfied: certifi>=2017.4.17 in c:\\mywork\\ml\\deepfaceandemotion\\venv\\lib\\site-packages (from requests[socks]->gdown>=3.10.1->deepface) (2024.2.2)\n",
      "Requirement already satisfied: PySocks!=1.5.7,>=1.5.6 in c:\\mywork\\ml\\deepfaceandemotion\\venv\\lib\\site-packages (from requests[socks]->gdown>=3.10.1->deepface) (1.7.1)\n",
      "Requirement already satisfied: markdown-it-py>=2.2.0 in c:\\mywork\\ml\\deepfaceandemotion\\venv\\lib\\site-packages (from rich->keras>=2.2.0->deepface) (3.0.0)\n",
      "Requirement already satisfied: pygments<3.0.0,>=2.13.0 in c:\\mywork\\ml\\deepfaceandemotion\\venv\\lib\\site-packages (from rich->keras>=2.2.0->deepface) (2.17.2)\n",
      "Requirement already satisfied: wheel<1.0,>=0.23.0 in c:\\mywork\\ml\\deepfaceandemotion\\venv\\lib\\site-packages (from astunparse>=1.6.0->tensorflow-intel==2.16.1->tensorflow>=1.9.0->deepface) (0.41.2)\n",
      "Requirement already satisfied: mdurl~=0.1 in c:\\mywork\\ml\\deepfaceandemotion\\venv\\lib\\site-packages (from markdown-it-py>=2.2.0->rich->keras>=2.2.0->deepface) (0.1.2)\n",
      "Requirement already satisfied: markdown>=2.6.8 in c:\\mywork\\ml\\deepfaceandemotion\\venv\\lib\\site-packages (from tensorboard<2.17,>=2.16->tensorflow-intel==2.16.1->tensorflow>=1.9.0->deepface) (3.6)\n",
      "Requirement already satisfied: tensorboard-data-server<0.8.0,>=0.7.0 in c:\\mywork\\ml\\deepfaceandemotion\\venv\\lib\\site-packages (from tensorboard<2.17,>=2.16->tensorflow-intel==2.16.1->tensorflow>=1.9.0->deepface) (0.7.2)\n"
     ]
    },
    {
     "name": "stderr",
     "output_type": "stream",
     "text": [
      "\n",
      "[notice] A new release of pip is available: 23.2.1 -> 24.0\n",
      "[notice] To update, run: python.exe -m pip install --upgrade pip\n"
     ]
    },
    {
     "name": "stdout",
     "output_type": "stream",
     "text": [
      "Requirement already satisfied: ultralytics in c:\\mywork\\ml\\deepfaceandemotion\\venv\\lib\\site-packages (8.1.29)\n",
      "Requirement already satisfied: matplotlib>=3.3.0 in c:\\mywork\\ml\\deepfaceandemotion\\venv\\lib\\site-packages (from ultralytics) (3.8.3)\n",
      "Requirement already satisfied: opencv-python>=4.6.0 in c:\\mywork\\ml\\deepfaceandemotion\\venv\\lib\\site-packages (from ultralytics) (4.9.0.80)\n",
      "Requirement already satisfied: pillow>=7.1.2 in c:\\mywork\\ml\\deepfaceandemotion\\venv\\lib\\site-packages (from ultralytics) (10.2.0)\n",
      "Requirement already satisfied: pyyaml>=5.3.1 in c:\\mywork\\ml\\deepfaceandemotion\\venv\\lib\\site-packages (from ultralytics) (6.0.1)\n",
      "Requirement already satisfied: requests>=2.23.0 in c:\\mywork\\ml\\deepfaceandemotion\\venv\\lib\\site-packages (from ultralytics) (2.31.0)\n",
      "Requirement already satisfied: scipy>=1.4.1 in c:\\mywork\\ml\\deepfaceandemotion\\venv\\lib\\site-packages (from ultralytics) (1.12.0)\n",
      "Requirement already satisfied: torch>=1.8.0 in c:\\mywork\\ml\\deepfaceandemotion\\venv\\lib\\site-packages (from ultralytics) (2.2.1)\n",
      "Requirement already satisfied: torchvision>=0.9.0 in c:\\mywork\\ml\\deepfaceandemotion\\venv\\lib\\site-packages (from ultralytics) (0.17.1)\n",
      "Requirement already satisfied: tqdm>=4.64.0 in c:\\mywork\\ml\\deepfaceandemotion\\venv\\lib\\site-packages (from ultralytics) (4.66.2)\n",
      "Requirement already satisfied: psutil in c:\\mywork\\ml\\deepfaceandemotion\\venv\\lib\\site-packages (from ultralytics) (5.9.8)\n",
      "Requirement already satisfied: py-cpuinfo in c:\\mywork\\ml\\deepfaceandemotion\\venv\\lib\\site-packages (from ultralytics) (9.0.0)\n",
      "Requirement already satisfied: thop>=0.1.1 in c:\\mywork\\ml\\deepfaceandemotion\\venv\\lib\\site-packages (from ultralytics) (0.1.1.post2209072238)\n",
      "Requirement already satisfied: pandas>=1.1.4 in c:\\mywork\\ml\\deepfaceandemotion\\venv\\lib\\site-packages (from ultralytics) (2.2.1)\n",
      "Requirement already satisfied: seaborn>=0.11.0 in c:\\mywork\\ml\\deepfaceandemotion\\venv\\lib\\site-packages (from ultralytics) (0.13.2)\n",
      "Requirement already satisfied: contourpy>=1.0.1 in c:\\mywork\\ml\\deepfaceandemotion\\venv\\lib\\site-packages (from matplotlib>=3.3.0->ultralytics) (1.2.0)\n",
      "Requirement already satisfied: cycler>=0.10 in c:\\mywork\\ml\\deepfaceandemotion\\venv\\lib\\site-packages (from matplotlib>=3.3.0->ultralytics) (0.12.1)\n",
      "Requirement already satisfied: fonttools>=4.22.0 in c:\\mywork\\ml\\deepfaceandemotion\\venv\\lib\\site-packages (from matplotlib>=3.3.0->ultralytics) (4.50.0)\n",
      "Requirement already satisfied: kiwisolver>=1.3.1 in c:\\mywork\\ml\\deepfaceandemotion\\venv\\lib\\site-packages (from matplotlib>=3.3.0->ultralytics) (1.4.5)\n",
      "Requirement already satisfied: numpy<2,>=1.21 in c:\\mywork\\ml\\deepfaceandemotion\\venv\\lib\\site-packages (from matplotlib>=3.3.0->ultralytics) (1.26.4)\n",
      "Requirement already satisfied: packaging>=20.0 in c:\\mywork\\ml\\deepfaceandemotion\\venv\\lib\\site-packages (from matplotlib>=3.3.0->ultralytics) (24.0)\n",
      "Requirement already satisfied: pyparsing>=2.3.1 in c:\\mywork\\ml\\deepfaceandemotion\\venv\\lib\\site-packages (from matplotlib>=3.3.0->ultralytics) (3.1.2)\n",
      "Requirement already satisfied: python-dateutil>=2.7 in c:\\mywork\\ml\\deepfaceandemotion\\venv\\lib\\site-packages (from matplotlib>=3.3.0->ultralytics) (2.9.0.post0)\n",
      "Requirement already satisfied: pytz>=2020.1 in c:\\mywork\\ml\\deepfaceandemotion\\venv\\lib\\site-packages (from pandas>=1.1.4->ultralytics) (2024.1)\n",
      "Requirement already satisfied: tzdata>=2022.7 in c:\\mywork\\ml\\deepfaceandemotion\\venv\\lib\\site-packages (from pandas>=1.1.4->ultralytics) (2024.1)\n",
      "Requirement already satisfied: charset-normalizer<4,>=2 in c:\\mywork\\ml\\deepfaceandemotion\\venv\\lib\\site-packages (from requests>=2.23.0->ultralytics) (3.3.2)\n",
      "Requirement already satisfied: idna<4,>=2.5 in c:\\mywork\\ml\\deepfaceandemotion\\venv\\lib\\site-packages (from requests>=2.23.0->ultralytics) (3.6)\n",
      "Requirement already satisfied: urllib3<3,>=1.21.1 in c:\\mywork\\ml\\deepfaceandemotion\\venv\\lib\\site-packages (from requests>=2.23.0->ultralytics) (2.2.1)\n",
      "Requirement already satisfied: certifi>=2017.4.17 in c:\\mywork\\ml\\deepfaceandemotion\\venv\\lib\\site-packages (from requests>=2.23.0->ultralytics) (2024.2.2)\n",
      "Requirement already satisfied: filelock in c:\\mywork\\ml\\deepfaceandemotion\\venv\\lib\\site-packages (from torch>=1.8.0->ultralytics) (3.13.1)\n",
      "Requirement already satisfied: typing-extensions>=4.8.0 in c:\\mywork\\ml\\deepfaceandemotion\\venv\\lib\\site-packages (from torch>=1.8.0->ultralytics) (4.10.0)\n",
      "Requirement already satisfied: sympy in c:\\mywork\\ml\\deepfaceandemotion\\venv\\lib\\site-packages (from torch>=1.8.0->ultralytics) (1.12)\n",
      "Requirement already satisfied: networkx in c:\\mywork\\ml\\deepfaceandemotion\\venv\\lib\\site-packages (from torch>=1.8.0->ultralytics) (3.2.1)\n",
      "Requirement already satisfied: jinja2 in c:\\mywork\\ml\\deepfaceandemotion\\venv\\lib\\site-packages (from torch>=1.8.0->ultralytics) (3.1.3)\n",
      "Requirement already satisfied: fsspec in c:\\mywork\\ml\\deepfaceandemotion\\venv\\lib\\site-packages (from torch>=1.8.0->ultralytics) (2024.3.0)\n",
      "Requirement already satisfied: colorama in c:\\mywork\\ml\\deepfaceandemotion\\venv\\lib\\site-packages (from tqdm>=4.64.0->ultralytics) (0.4.6)\n",
      "Requirement already satisfied: six>=1.5 in c:\\mywork\\ml\\deepfaceandemotion\\venv\\lib\\site-packages (from python-dateutil>=2.7->matplotlib>=3.3.0->ultralytics) (1.16.0)\n",
      "Requirement already satisfied: MarkupSafe>=2.0 in c:\\mywork\\ml\\deepfaceandemotion\\venv\\lib\\site-packages (from jinja2->torch>=1.8.0->ultralytics) (2.1.5)\n",
      "Requirement already satisfied: mpmath>=0.19 in c:\\mywork\\ml\\deepfaceandemotion\\venv\\lib\\site-packages (from sympy->torch>=1.8.0->ultralytics) (1.3.0)\n"
     ]
    },
    {
     "name": "stderr",
     "output_type": "stream",
     "text": [
      "\n",
      "[notice] A new release of pip is available: 23.2.1 -> 24.0\n",
      "[notice] To update, run: python.exe -m pip install --upgrade pip\n"
     ]
    }
   ],
   "source": [
    "!pip install deepface\n",
    "!pip install ultralytics"
   ]
  },
  {
   "cell_type": "markdown",
   "id": "e252c135e1cef260",
   "metadata": {
    "collapsed": false,
    "jupyter": {
     "outputs_hidden": false
    }
   },
   "source": [
    "This is for showing the image with the bounding boxes with the emotions detected. This will also the return the modified image so that it can be save in the target directory."
   ]
  },
  {
   "cell_type": "code",
   "execution_count": 6,
   "id": "76e8711979e3cc20",
   "metadata": {
    "ExecuteTime": {
     "end_time": "2024-03-18T03:56:50.783693200Z",
     "start_time": "2024-03-18T03:56:50.774529400Z"
    },
    "collapsed": false,
    "jupyter": {
     "outputs_hidden": false
    }
   },
   "outputs": [],
   "source": [
    "from PIL import ImageFont, ImageDraw, Image\n",
    "\n",
    "\n",
    "def show_bbox_with_emotion(image: Image, bboxes: dict, do_show=True):\n",
    "    draw = ImageDraw.Draw(image)\n",
    "    fnt = ImageFont.truetype(\"GlacialIndifference-Regular.otf\", 9)\n",
    "    for bbox in bboxes:\n",
    "        x1 = int(bbox['x1'])\n",
    "        y1 = int(bbox['y1'])\n",
    "        x2 = int(bbox['x2'])\n",
    "        y2 = int(bbox['y2'])\n",
    "        draw.rectangle([x1, y1, x2, y2], outline=(0, 255, 0, 85), width=1)\n",
    "        emotion = f\"{bbox['f_i']}_{bbox['emotion']}\"\n",
    "        draw.text((x1, y1), emotion, font=fnt, fill=(255, 0, 0))\n",
    "    if do_show:\n",
    "        image.show()"
   ]
  },
  {
   "cell_type": "markdown",
   "id": "4bba4684a701e6f0",
   "metadata": {
    "collapsed": false,
    "jupyter": {
     "outputs_hidden": false
    }
   },
   "source": [
    "The function below is used to acquire the emotion of the face defined by the bounding box."
   ]
  },
  {
   "cell_type": "code",
   "execution_count": 7,
   "id": "4dc6b01aed475fd9",
   "metadata": {
    "ExecuteTime": {
     "end_time": "2024-03-18T03:56:50.784692700Z",
     "start_time": "2024-03-18T03:56:50.779011100Z"
    },
    "collapsed": false,
    "jupyter": {
     "outputs_hidden": false
    }
   },
   "outputs": [],
   "source": [
    "\n",
    "from deepface import DeepFace\n",
    "\n",
    "\n",
    "def get_emotion(cropped_face):\n",
    "    analyzed_emotion = DeepFace.analyze(cropped_face, actions=['emotion'], enforce_detection=False)[0]\n",
    "    return {'emotion': analyzed_emotion['dominant_emotion'],\n",
    "            'emo_confidence': analyzed_emotion['face_confidence']}"
   ]
  },
  {
   "cell_type": "markdown",
   "id": "a780f415ec75fafc",
   "metadata": {
    "collapsed": false,
    "jupyter": {
     "outputs_hidden": false
    }
   },
   "source": [
    "So we want to use the Yolo library and dump the folder with all the images so that processing can be done all in bulk fashion. Here I am returning a dataframe of the inferred results. That can be saved as csv for later analysis. "
   ]
  },
  {
   "cell_type": "code",
   "execution_count": 8,
   "id": "f469e70be38cf078",
   "metadata": {
    "ExecuteTime": {
     "end_time": "2024-03-18T03:56:50.826157Z",
     "start_time": "2024-03-18T03:56:50.784692700Z"
    },
    "collapsed": false,
    "jupyter": {
     "outputs_hidden": false
    }
   },
   "outputs": [],
   "source": [
    "import pandas as pd\n",
    "from ultralytics import YOLO\n",
    "\n",
    "model = YOLO('yolov8n-face.pt')\n",
    "\n",
    "\n",
    "def detect_face(path_to_images, path_to_results, limit):\n",
    "    inference_results = []\n",
    "    inferences = model(path_to_images,stream=True)\n",
    "    for image_number, inference in enumerate(inferences):\n",
    "        if 0 < limit < image_number:\n",
    "            break\n",
    "        image_path = inference.path\n",
    "        for i, detected_face in enumerate(inference):\n",
    "            given_xyxy = detected_face.boxes.xyxy[0]\n",
    "            x1 = int(given_xyxy[0].item())\n",
    "            y1 = int(given_xyxy[1].item())\n",
    "            x2 = int(given_xyxy[2].item())\n",
    "            y2 = int(given_xyxy[3].item())\n",
    "            h, w = inference.orig_shape\n",
    "            face_box = inference.orig_img[y1:y2, x1:x2]\n",
    "            emotional_resp = get_emotion(face_box)\n",
    "            common_file_data = {'image_path': image_path, 'h': h, 'w': w, 'f_i': i}\n",
    "            xys = {'x1': x1, 'y1': y1, 'x2': x2, 'y2': y2}\n",
    "            all_facial_results = {**common_file_data, **xys, **emotional_resp}\n",
    "            inference_results.append(all_facial_results)\n",
    "    df = pd.DataFrame(inference_results)\n",
    "    if path_to_results is not None:\n",
    "        df.to_csv(path_to_results)\n",
    "    return df"
   ]
  },
  {
   "cell_type": "markdown",
   "id": "6247250ef2c87a9e",
   "metadata": {
    "collapsed": false,
    "jupyter": {
     "outputs_hidden": false
    }
   },
   "source": [
    "Store generated images with bounding boxes."
   ]
  },
  {
   "cell_type": "code",
   "execution_count": 11,
   "id": "a9f07d028345c5b4",
   "metadata": {
    "ExecuteTime": {
     "end_time": "2024-03-18T03:56:50.851047700Z",
     "start_time": "2024-03-18T03:56:50.825649900Z"
    },
    "collapsed": false,
    "jupyter": {
     "outputs_hidden": false
    }
   },
   "outputs": [],
   "source": [
    "import os\n",
    "\n",
    "\n",
    "def store_with_bounding_box(csv_loc, target_location):\n",
    "    df = pd.read_csv(csv_loc)\n",
    "    file_paths = df['image_path'].unique()\n",
    "    for file_path in file_paths:\n",
    "        filtered = df[df['image_path'].str.contains(str(file_path))]\n",
    "        list_faces = list(filtered.T.to_dict().values())\n",
    "        image = Image.open(file_path)\n",
    "        show_bbox_with_emotion(image, list_faces, do_show=False)\n",
    "        file_name = os.path.basename(file_path)\n",
    "        location = os.path.join(target_location, file_name)\n",
    "        image.save(location)"
   ]
  },
  {
   "cell_type": "markdown",
   "id": "746f5a06b3c4e841",
   "metadata": {
    "collapsed": false,
    "jupyter": {
     "outputs_hidden": false
    }
   },
   "source": []
  },
  {
   "cell_type": "code",
   "execution_count": 12,
   "id": "aae7ba02088e6696",
   "metadata": {
    "ExecuteTime": {
     "end_time": "2024-03-18T03:56:52.586757800Z",
     "start_time": "2024-03-18T03:56:50.831852Z"
    },
    "collapsed": false,
    "jupyter": {
     "outputs_hidden": false
    }
   },
   "outputs": [
    {
     "name": "stdout",
     "output_type": "stream",
     "text": [
      "\n",
      "image 1/3083 C:\\mywork\\ml\\deepfaceAndEmotion\\source\\001333d5a0464e2fb454647fb3cf1dce.jpg: 416x640 11 faces, 64.6ms\n",
      "image 2/3083 C:\\mywork\\ml\\deepfaceAndEmotion\\source\\00746310ec034c5484f3b998cbfa4795.jpg: 640x640 4 faces, 76.3ms\n",
      "image 3/3083 C:\\mywork\\ml\\deepfaceAndEmotion\\source\\014a05e9ae584321a9f473c994dd9818.jpg: 480x640 2 faces, 55.2ms\n",
      "image 4/3083 C:\\mywork\\ml\\deepfaceAndEmotion\\source\\0150b34a95e04a2c8d588af9942aec2d.jpg: 544x640 4 faces, 71.1ms\n",
      "image 5/3083 C:\\mywork\\ml\\deepfaceAndEmotion\\source\\01537a90201f483c8492876384636764.jpg: 544x640 56 faces, 67.1ms\n",
      "image 6/3083 C:\\mywork\\ml\\deepfaceAndEmotion\\source\\022915fab0af4d5dbc74c88214a21ee5.jpg: 384x640 6 faces, 59.5ms\n",
      "image 7/3083 C:\\mywork\\ml\\deepfaceAndEmotion\\source\\0272a05589274fedaa11b1c4a439287a.jpg: 544x640 9 faces, 69.6ms\n",
      "image 8/3083 C:\\mywork\\ml\\deepfaceAndEmotion\\source\\0275f9a215934751b2b477d509cf3491.jpg: 448x640 9 faces, 54.4ms\n",
      "image 9/3083 C:\\mywork\\ml\\deepfaceAndEmotion\\source\\02a9ea1d381743e99e9e0eb95e746767.jpg: 448x640 7 faces, 52.1ms\n",
      "image 10/3083 C:\\mywork\\ml\\deepfaceAndEmotion\\source\\02cc9d2429424b3b81113f14b5a69ad9.jpg: 480x640 12 faces, 59.2ms\n",
      "image 11/3083 C:\\mywork\\ml\\deepfaceAndEmotion\\source\\03e3f6e435b84a9e94a4c8d3ab00a498.jpg: 384x640 4 faces, 56.1ms\n",
      "image 12/3083 C:\\mywork\\ml\\deepfaceAndEmotion\\source\\0437912fa55c4fdeab4d167eb28231a3.jpg: 480x640 13 faces, 58.6ms\n"
     ]
    },
    {
     "ename": "error",
     "evalue": "bad escape \\m at position 2",
     "output_type": "error",
     "traceback": [
      "\u001b[1;31m---------------------------------------------------------------------------\u001b[0m",
      "\u001b[1;31merror\u001b[0m                                     Traceback (most recent call last)",
      "Cell \u001b[1;32mIn[12], line 2\u001b[0m\n\u001b[0;32m      1\u001b[0m detect_face(\u001b[38;5;124m'\u001b[39m\u001b[38;5;124msource/\u001b[39m\u001b[38;5;124m'\u001b[39m,\u001b[38;5;124m'\u001b[39m\u001b[38;5;124mrecognised_emotions.csv\u001b[39m\u001b[38;5;124m'\u001b[39m, \u001b[38;5;241m10\u001b[39m)\n\u001b[1;32m----> 2\u001b[0m \u001b[43mstore_with_bounding_box\u001b[49m\u001b[43m(\u001b[49m\u001b[38;5;124;43m'\u001b[39;49m\u001b[38;5;124;43mrecognised_emotions.csv\u001b[39;49m\u001b[38;5;124;43m'\u001b[39;49m\u001b[43m,\u001b[49m\u001b[38;5;124;43m'\u001b[39;49m\u001b[38;5;124;43mtarget\u001b[39;49m\u001b[38;5;124;43m'\u001b[39;49m\u001b[43m)\u001b[49m\n",
      "Cell \u001b[1;32mIn[11], line 8\u001b[0m, in \u001b[0;36mstore_with_bounding_box\u001b[1;34m(csv_loc, target_location)\u001b[0m\n\u001b[0;32m      6\u001b[0m file_paths \u001b[38;5;241m=\u001b[39m df[\u001b[38;5;124m'\u001b[39m\u001b[38;5;124mimage_path\u001b[39m\u001b[38;5;124m'\u001b[39m]\u001b[38;5;241m.\u001b[39munique()\n\u001b[0;32m      7\u001b[0m \u001b[38;5;28;01mfor\u001b[39;00m file_path \u001b[38;5;129;01min\u001b[39;00m file_paths:\n\u001b[1;32m----> 8\u001b[0m     filtered \u001b[38;5;241m=\u001b[39m df[\u001b[43mdf\u001b[49m\u001b[43m[\u001b[49m\u001b[38;5;124;43m'\u001b[39;49m\u001b[38;5;124;43mimage_path\u001b[39;49m\u001b[38;5;124;43m'\u001b[39;49m\u001b[43m]\u001b[49m\u001b[38;5;241;43m.\u001b[39;49m\u001b[43mstr\u001b[49m\u001b[38;5;241;43m.\u001b[39;49m\u001b[43mcontains\u001b[49m\u001b[43m(\u001b[49m\u001b[38;5;28;43mstr\u001b[39;49m\u001b[43m(\u001b[49m\u001b[43mfile_path\u001b[49m\u001b[43m)\u001b[49m\u001b[43m)\u001b[49m]\n\u001b[0;32m      9\u001b[0m     list_faces \u001b[38;5;241m=\u001b[39m \u001b[38;5;28mlist\u001b[39m(filtered\u001b[38;5;241m.\u001b[39mT\u001b[38;5;241m.\u001b[39mto_dict()\u001b[38;5;241m.\u001b[39mvalues())\n\u001b[0;32m     10\u001b[0m     image \u001b[38;5;241m=\u001b[39m Image\u001b[38;5;241m.\u001b[39mopen(file_path)\n",
      "File \u001b[1;32mC:\\mywork\\ml\\deepfaceAndEmotion\\venv\\Lib\\site-packages\\pandas\\core\\strings\\accessor.py:137\u001b[0m, in \u001b[0;36mforbid_nonstring_types.<locals>._forbid_nonstring_types.<locals>.wrapper\u001b[1;34m(self, *args, **kwargs)\u001b[0m\n\u001b[0;32m    132\u001b[0m     msg \u001b[38;5;241m=\u001b[39m (\n\u001b[0;32m    133\u001b[0m         \u001b[38;5;124mf\u001b[39m\u001b[38;5;124m\"\u001b[39m\u001b[38;5;124mCannot use .str.\u001b[39m\u001b[38;5;132;01m{\u001b[39;00mfunc_name\u001b[38;5;132;01m}\u001b[39;00m\u001b[38;5;124m with values of \u001b[39m\u001b[38;5;124m\"\u001b[39m\n\u001b[0;32m    134\u001b[0m         \u001b[38;5;124mf\u001b[39m\u001b[38;5;124m\"\u001b[39m\u001b[38;5;124minferred dtype \u001b[39m\u001b[38;5;124m'\u001b[39m\u001b[38;5;132;01m{\u001b[39;00m\u001b[38;5;28mself\u001b[39m\u001b[38;5;241m.\u001b[39m_inferred_dtype\u001b[38;5;132;01m}\u001b[39;00m\u001b[38;5;124m'\u001b[39m\u001b[38;5;124m.\u001b[39m\u001b[38;5;124m\"\u001b[39m\n\u001b[0;32m    135\u001b[0m     )\n\u001b[0;32m    136\u001b[0m     \u001b[38;5;28;01mraise\u001b[39;00m \u001b[38;5;167;01mTypeError\u001b[39;00m(msg)\n\u001b[1;32m--> 137\u001b[0m \u001b[38;5;28;01mreturn\u001b[39;00m \u001b[43mfunc\u001b[49m\u001b[43m(\u001b[49m\u001b[38;5;28;43mself\u001b[39;49m\u001b[43m,\u001b[49m\u001b[43m \u001b[49m\u001b[38;5;241;43m*\u001b[39;49m\u001b[43margs\u001b[49m\u001b[43m,\u001b[49m\u001b[43m \u001b[49m\u001b[38;5;241;43m*\u001b[39;49m\u001b[38;5;241;43m*\u001b[39;49m\u001b[43mkwargs\u001b[49m\u001b[43m)\u001b[49m\n",
      "File \u001b[1;32mC:\\mywork\\ml\\deepfaceAndEmotion\\venv\\Lib\\site-packages\\pandas\\core\\strings\\accessor.py:1327\u001b[0m, in \u001b[0;36mStringMethods.contains\u001b[1;34m(self, pat, case, flags, na, regex)\u001b[0m\n\u001b[0;32m   1200\u001b[0m \u001b[38;5;129m@forbid_nonstring_types\u001b[39m([\u001b[38;5;124m\"\u001b[39m\u001b[38;5;124mbytes\u001b[39m\u001b[38;5;124m\"\u001b[39m])\n\u001b[0;32m   1201\u001b[0m \u001b[38;5;28;01mdef\u001b[39;00m \u001b[38;5;21mcontains\u001b[39m(\n\u001b[0;32m   1202\u001b[0m     \u001b[38;5;28mself\u001b[39m, pat, case: \u001b[38;5;28mbool\u001b[39m \u001b[38;5;241m=\u001b[39m \u001b[38;5;28;01mTrue\u001b[39;00m, flags: \u001b[38;5;28mint\u001b[39m \u001b[38;5;241m=\u001b[39m \u001b[38;5;241m0\u001b[39m, na\u001b[38;5;241m=\u001b[39m\u001b[38;5;28;01mNone\u001b[39;00m, regex: \u001b[38;5;28mbool\u001b[39m \u001b[38;5;241m=\u001b[39m \u001b[38;5;28;01mTrue\u001b[39;00m\n\u001b[0;32m   1203\u001b[0m ):\n\u001b[0;32m   1204\u001b[0m \u001b[38;5;250m    \u001b[39m\u001b[38;5;124mr\u001b[39m\u001b[38;5;124;03m\"\"\"\u001b[39;00m\n\u001b[0;32m   1205\u001b[0m \u001b[38;5;124;03m    Test if pattern or regex is contained within a string of a Series or Index.\u001b[39;00m\n\u001b[0;32m   1206\u001b[0m \n\u001b[1;32m   (...)\u001b[0m\n\u001b[0;32m   1325\u001b[0m \u001b[38;5;124;03m    dtype: bool\u001b[39;00m\n\u001b[0;32m   1326\u001b[0m \u001b[38;5;124;03m    \"\"\"\u001b[39;00m\n\u001b[1;32m-> 1327\u001b[0m     \u001b[38;5;28;01mif\u001b[39;00m regex \u001b[38;5;129;01mand\u001b[39;00m \u001b[43mre\u001b[49m\u001b[38;5;241;43m.\u001b[39;49m\u001b[43mcompile\u001b[49m\u001b[43m(\u001b[49m\u001b[43mpat\u001b[49m\u001b[43m)\u001b[49m\u001b[38;5;241m.\u001b[39mgroups:\n\u001b[0;32m   1328\u001b[0m         warnings\u001b[38;5;241m.\u001b[39mwarn(\n\u001b[0;32m   1329\u001b[0m             \u001b[38;5;124m\"\u001b[39m\u001b[38;5;124mThis pattern is interpreted as a regular expression, and has \u001b[39m\u001b[38;5;124m\"\u001b[39m\n\u001b[0;32m   1330\u001b[0m             \u001b[38;5;124m\"\u001b[39m\u001b[38;5;124mmatch groups. To actually get the groups, use str.extract.\u001b[39m\u001b[38;5;124m\"\u001b[39m,\n\u001b[0;32m   1331\u001b[0m             \u001b[38;5;167;01mUserWarning\u001b[39;00m,\n\u001b[0;32m   1332\u001b[0m             stacklevel\u001b[38;5;241m=\u001b[39mfind_stack_level(),\n\u001b[0;32m   1333\u001b[0m         )\n\u001b[0;32m   1335\u001b[0m     result \u001b[38;5;241m=\u001b[39m \u001b[38;5;28mself\u001b[39m\u001b[38;5;241m.\u001b[39m_data\u001b[38;5;241m.\u001b[39marray\u001b[38;5;241m.\u001b[39m_str_contains(pat, case, flags, na, regex)\n",
      "File \u001b[1;32mc:\\python311\\Lib\\re\\__init__.py:227\u001b[0m, in \u001b[0;36mcompile\u001b[1;34m(pattern, flags)\u001b[0m\n\u001b[0;32m    225\u001b[0m \u001b[38;5;28;01mdef\u001b[39;00m \u001b[38;5;21mcompile\u001b[39m(pattern, flags\u001b[38;5;241m=\u001b[39m\u001b[38;5;241m0\u001b[39m):\n\u001b[0;32m    226\u001b[0m     \u001b[38;5;124m\"\u001b[39m\u001b[38;5;124mCompile a regular expression pattern, returning a Pattern object.\u001b[39m\u001b[38;5;124m\"\u001b[39m\n\u001b[1;32m--> 227\u001b[0m     \u001b[38;5;28;01mreturn\u001b[39;00m \u001b[43m_compile\u001b[49m\u001b[43m(\u001b[49m\u001b[43mpattern\u001b[49m\u001b[43m,\u001b[49m\u001b[43m \u001b[49m\u001b[43mflags\u001b[49m\u001b[43m)\u001b[49m\n",
      "File \u001b[1;32mc:\\python311\\Lib\\re\\__init__.py:294\u001b[0m, in \u001b[0;36m_compile\u001b[1;34m(pattern, flags)\u001b[0m\n\u001b[0;32m    288\u001b[0m     \u001b[38;5;28;01mimport\u001b[39;00m \u001b[38;5;21;01mwarnings\u001b[39;00m\n\u001b[0;32m    289\u001b[0m     warnings\u001b[38;5;241m.\u001b[39mwarn(\u001b[38;5;124m\"\u001b[39m\u001b[38;5;124mThe re.TEMPLATE/re.T flag is deprecated \u001b[39m\u001b[38;5;124m\"\u001b[39m\n\u001b[0;32m    290\u001b[0m               \u001b[38;5;124m\"\u001b[39m\u001b[38;5;124mas it is an undocumented flag \u001b[39m\u001b[38;5;124m\"\u001b[39m\n\u001b[0;32m    291\u001b[0m               \u001b[38;5;124m\"\u001b[39m\u001b[38;5;124mwithout an obvious purpose. \u001b[39m\u001b[38;5;124m\"\u001b[39m\n\u001b[0;32m    292\u001b[0m               \u001b[38;5;124m\"\u001b[39m\u001b[38;5;124mDon\u001b[39m\u001b[38;5;124m'\u001b[39m\u001b[38;5;124mt use it.\u001b[39m\u001b[38;5;124m\"\u001b[39m,\n\u001b[0;32m    293\u001b[0m               \u001b[38;5;167;01mDeprecationWarning\u001b[39;00m)\n\u001b[1;32m--> 294\u001b[0m p \u001b[38;5;241m=\u001b[39m \u001b[43m_compiler\u001b[49m\u001b[38;5;241;43m.\u001b[39;49m\u001b[43mcompile\u001b[49m\u001b[43m(\u001b[49m\u001b[43mpattern\u001b[49m\u001b[43m,\u001b[49m\u001b[43m \u001b[49m\u001b[43mflags\u001b[49m\u001b[43m)\u001b[49m\n\u001b[0;32m    295\u001b[0m \u001b[38;5;28;01mif\u001b[39;00m \u001b[38;5;129;01mnot\u001b[39;00m (flags \u001b[38;5;241m&\u001b[39m DEBUG):\n\u001b[0;32m    296\u001b[0m     \u001b[38;5;28;01mif\u001b[39;00m \u001b[38;5;28mlen\u001b[39m(_cache) \u001b[38;5;241m>\u001b[39m\u001b[38;5;241m=\u001b[39m _MAXCACHE:\n\u001b[0;32m    297\u001b[0m         \u001b[38;5;66;03m# Drop the oldest item\u001b[39;00m\n",
      "File \u001b[1;32mc:\\python311\\Lib\\re\\_compiler.py:743\u001b[0m, in \u001b[0;36mcompile\u001b[1;34m(p, flags)\u001b[0m\n\u001b[0;32m    741\u001b[0m \u001b[38;5;28;01mif\u001b[39;00m isstring(p):\n\u001b[0;32m    742\u001b[0m     pattern \u001b[38;5;241m=\u001b[39m p\n\u001b[1;32m--> 743\u001b[0m     p \u001b[38;5;241m=\u001b[39m \u001b[43m_parser\u001b[49m\u001b[38;5;241;43m.\u001b[39;49m\u001b[43mparse\u001b[49m\u001b[43m(\u001b[49m\u001b[43mp\u001b[49m\u001b[43m,\u001b[49m\u001b[43m \u001b[49m\u001b[43mflags\u001b[49m\u001b[43m)\u001b[49m\n\u001b[0;32m    744\u001b[0m \u001b[38;5;28;01melse\u001b[39;00m:\n\u001b[0;32m    745\u001b[0m     pattern \u001b[38;5;241m=\u001b[39m \u001b[38;5;28;01mNone\u001b[39;00m\n",
      "File \u001b[1;32mc:\\python311\\Lib\\re\\_parser.py:980\u001b[0m, in \u001b[0;36mparse\u001b[1;34m(str, flags, state)\u001b[0m\n\u001b[0;32m    977\u001b[0m state\u001b[38;5;241m.\u001b[39mflags \u001b[38;5;241m=\u001b[39m flags\n\u001b[0;32m    978\u001b[0m state\u001b[38;5;241m.\u001b[39mstr \u001b[38;5;241m=\u001b[39m \u001b[38;5;28mstr\u001b[39m\n\u001b[1;32m--> 980\u001b[0m p \u001b[38;5;241m=\u001b[39m \u001b[43m_parse_sub\u001b[49m\u001b[43m(\u001b[49m\u001b[43msource\u001b[49m\u001b[43m,\u001b[49m\u001b[43m \u001b[49m\u001b[43mstate\u001b[49m\u001b[43m,\u001b[49m\u001b[43m \u001b[49m\u001b[43mflags\u001b[49m\u001b[43m \u001b[49m\u001b[38;5;241;43m&\u001b[39;49m\u001b[43m \u001b[49m\u001b[43mSRE_FLAG_VERBOSE\u001b[49m\u001b[43m,\u001b[49m\u001b[43m \u001b[49m\u001b[38;5;241;43m0\u001b[39;49m\u001b[43m)\u001b[49m\n\u001b[0;32m    981\u001b[0m p\u001b[38;5;241m.\u001b[39mstate\u001b[38;5;241m.\u001b[39mflags \u001b[38;5;241m=\u001b[39m fix_flags(\u001b[38;5;28mstr\u001b[39m, p\u001b[38;5;241m.\u001b[39mstate\u001b[38;5;241m.\u001b[39mflags)\n\u001b[0;32m    983\u001b[0m \u001b[38;5;28;01mif\u001b[39;00m source\u001b[38;5;241m.\u001b[39mnext \u001b[38;5;129;01mis\u001b[39;00m \u001b[38;5;129;01mnot\u001b[39;00m \u001b[38;5;28;01mNone\u001b[39;00m:\n",
      "File \u001b[1;32mc:\\python311\\Lib\\re\\_parser.py:455\u001b[0m, in \u001b[0;36m_parse_sub\u001b[1;34m(source, state, verbose, nested)\u001b[0m\n\u001b[0;32m    453\u001b[0m start \u001b[38;5;241m=\u001b[39m source\u001b[38;5;241m.\u001b[39mtell()\n\u001b[0;32m    454\u001b[0m \u001b[38;5;28;01mwhile\u001b[39;00m \u001b[38;5;28;01mTrue\u001b[39;00m:\n\u001b[1;32m--> 455\u001b[0m     itemsappend(\u001b[43m_parse\u001b[49m\u001b[43m(\u001b[49m\u001b[43msource\u001b[49m\u001b[43m,\u001b[49m\u001b[43m \u001b[49m\u001b[43mstate\u001b[49m\u001b[43m,\u001b[49m\u001b[43m \u001b[49m\u001b[43mverbose\u001b[49m\u001b[43m,\u001b[49m\u001b[43m \u001b[49m\u001b[43mnested\u001b[49m\u001b[43m \u001b[49m\u001b[38;5;241;43m+\u001b[39;49m\u001b[43m \u001b[49m\u001b[38;5;241;43m1\u001b[39;49m\u001b[43m,\u001b[49m\n\u001b[0;32m    456\u001b[0m \u001b[43m                       \u001b[49m\u001b[38;5;129;43;01mnot\u001b[39;49;00m\u001b[43m \u001b[49m\u001b[43mnested\u001b[49m\u001b[43m \u001b[49m\u001b[38;5;129;43;01mand\u001b[39;49;00m\u001b[43m \u001b[49m\u001b[38;5;129;43;01mnot\u001b[39;49;00m\u001b[43m \u001b[49m\u001b[43mitems\u001b[49m\u001b[43m)\u001b[49m)\n\u001b[0;32m    457\u001b[0m     \u001b[38;5;28;01mif\u001b[39;00m \u001b[38;5;129;01mnot\u001b[39;00m sourcematch(\u001b[38;5;124m\"\u001b[39m\u001b[38;5;124m|\u001b[39m\u001b[38;5;124m\"\u001b[39m):\n\u001b[0;32m    458\u001b[0m         \u001b[38;5;28;01mbreak\u001b[39;00m\n",
      "File \u001b[1;32mc:\\python311\\Lib\\re\\_parser.py:539\u001b[0m, in \u001b[0;36m_parse\u001b[1;34m(source, state, verbose, nested, first)\u001b[0m\n\u001b[0;32m    536\u001b[0m         \u001b[38;5;28;01mcontinue\u001b[39;00m\n\u001b[0;32m    538\u001b[0m \u001b[38;5;28;01mif\u001b[39;00m this[\u001b[38;5;241m0\u001b[39m] \u001b[38;5;241m==\u001b[39m \u001b[38;5;124m\"\u001b[39m\u001b[38;5;130;01m\\\\\u001b[39;00m\u001b[38;5;124m\"\u001b[39m:\n\u001b[1;32m--> 539\u001b[0m     code \u001b[38;5;241m=\u001b[39m \u001b[43m_escape\u001b[49m\u001b[43m(\u001b[49m\u001b[43msource\u001b[49m\u001b[43m,\u001b[49m\u001b[43m \u001b[49m\u001b[43mthis\u001b[49m\u001b[43m,\u001b[49m\u001b[43m \u001b[49m\u001b[43mstate\u001b[49m\u001b[43m)\u001b[49m\n\u001b[0;32m    540\u001b[0m     subpatternappend(code)\n\u001b[0;32m    542\u001b[0m \u001b[38;5;28;01melif\u001b[39;00m this \u001b[38;5;129;01mnot\u001b[39;00m \u001b[38;5;129;01min\u001b[39;00m SPECIAL_CHARS:\n",
      "File \u001b[1;32mc:\\python311\\Lib\\re\\_parser.py:438\u001b[0m, in \u001b[0;36m_escape\u001b[1;34m(source, escape, state)\u001b[0m\n\u001b[0;32m    436\u001b[0m     \u001b[38;5;28;01mif\u001b[39;00m \u001b[38;5;28mlen\u001b[39m(escape) \u001b[38;5;241m==\u001b[39m \u001b[38;5;241m2\u001b[39m:\n\u001b[0;32m    437\u001b[0m         \u001b[38;5;28;01mif\u001b[39;00m c \u001b[38;5;129;01min\u001b[39;00m ASCIILETTERS:\n\u001b[1;32m--> 438\u001b[0m             \u001b[38;5;28;01mraise\u001b[39;00m source\u001b[38;5;241m.\u001b[39merror(\u001b[38;5;124m\"\u001b[39m\u001b[38;5;124mbad escape \u001b[39m\u001b[38;5;132;01m%s\u001b[39;00m\u001b[38;5;124m\"\u001b[39m \u001b[38;5;241m%\u001b[39m escape, \u001b[38;5;28mlen\u001b[39m(escape))\n\u001b[0;32m    439\u001b[0m         \u001b[38;5;28;01mreturn\u001b[39;00m LITERAL, \u001b[38;5;28mord\u001b[39m(escape[\u001b[38;5;241m1\u001b[39m])\n\u001b[0;32m    440\u001b[0m \u001b[38;5;28;01mexcept\u001b[39;00m \u001b[38;5;167;01mValueError\u001b[39;00m:\n",
      "\u001b[1;31merror\u001b[0m: bad escape \\m at position 2"
     ]
    }
   ],
   "source": [
    "detect_face('source/','recognised_emotions.csv', 10)\n",
    "store_with_bounding_box('recognised_emotions.csv','target')"
   ]
  },
  {
   "cell_type": "code",
   "execution_count": null,
   "id": "375acb89c2af8af7",
   "metadata": {
    "ExecuteTime": {
     "end_time": "2024-03-18T03:56:52.597612Z",
     "start_time": "2024-03-18T03:56:52.588770400Z"
    },
    "collapsed": false,
    "jupyter": {
     "outputs_hidden": false
    }
   },
   "outputs": [],
   "source": []
  }
 ],
 "metadata": {
  "kernelspec": {
   "display_name": "Python 3 (ipykernel)",
   "language": "python",
   "name": "python3"
  },
  "language_info": {
   "codemirror_mode": {
    "name": "ipython",
    "version": 3
   },
   "file_extension": ".py",
   "mimetype": "text/x-python",
   "name": "python",
   "nbconvert_exporter": "python",
   "pygments_lexer": "ipython3",
   "version": "3.11.0"
  }
 },
 "nbformat": 4,
 "nbformat_minor": 5
}
